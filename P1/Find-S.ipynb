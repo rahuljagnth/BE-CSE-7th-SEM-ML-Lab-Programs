{
 "cells": [
  {
   "cell_type": "code",
   "execution_count": 1,
   "metadata": {},
   "outputs": [
    {
     "name": "stdout",
     "output_type": "stream",
     "text": [
      "\n",
      "The given training examples are:\n",
      "['Sunny', 'Warm', 'Normal', 'Strong', 'Warm', 'Same', 'Yes']\n",
      "['Sunny', 'Warm', 'High', 'Strong', 'Warm', 'Same', 'Yes']\n",
      "['Rainy', 'Cold', 'High', 'Strong', 'Warm', 'Change', 'No']\n",
      "['Sunny', 'Warm', 'High', 'Strong', 'Cool', 'Change', 'Yes']\n",
      "\n",
      "The positive examples are:\n",
      "['Sunny', 'Warm', 'Normal', 'Strong', 'Warm', 'Same', 'Yes']\n",
      "['Sunny', 'Warm', 'High', 'Strong', 'Warm', 'Same', 'Yes']\n",
      "['Sunny', 'Warm', 'High', 'Strong', 'Cool', 'Change', 'Yes']\n",
      "\n",
      "\n",
      "The steps of the Find-s algorithm are: \n",
      " ['%', '%', '%', '%', '%', '%']\n",
      "['Sunny', 'Warm', 'Normal', 'Strong', 'Warm', 'Same']\n",
      "['Sunny', 'Warm', '?', 'Strong', 'Warm', 'Same']\n",
      "['Sunny', 'Warm', '?', 'Strong', '?', '?']\n",
      "\n",
      " The maximally specific Find-s hypothesis for the given training examples:\n",
      "['Sunny', 'Warm', '?', 'Strong', '?', '?']\n"
     ]
    }
   ],
   "source": [
    "import csv\n",
    "#list creating\n",
    "hypo=['%','%','%','%','%','%'];\n",
    "\n",
    "with open('Training_examples.csv') as csv_file:\n",
    "    readcsv = csv.reader(csv_file, delimiter=',')\n",
    "    data = []\n",
    "    print(\"\\nThe given training examples are:\")\n",
    "    for row in readcsv:\n",
    "        print(row)\n",
    "        if row[len(row)-1].upper() == \"YES\":\n",
    "            data.append(row)\n",
    "\n",
    "print(\"\\nThe positive examples are:\");\n",
    "for x in data:\n",
    "    print(x);\n",
    "print(\"\\n\");\n",
    "\n",
    "TotalExamples = len(data);\n",
    "i=0;\n",
    "j=0;\n",
    "k=0;\n",
    "print(\"The steps of the Find-s algorithm are: \\n\",hypo);\n",
    "list = [];\n",
    "p=0;\n",
    "d=len(data[p])-1;\n",
    "for j in range(d):\n",
    "    list.append(data[i][j]);\n",
    "hypo=list;\n",
    "i=1;\n",
    "for i in range(TotalExamples):\n",
    "    for k in range(d):\n",
    "        if hypo[k]!=data[i][k]:\n",
    "            hypo[k]='?';\n",
    "        else:\n",
    "            hypo[k];\n",
    "    print(hypo);\n",
    "\n",
    "print(\"\\n The maximally specific Find-s hypothesis for the given training examples:\");\n",
    "list=[];\n",
    "for i in range(d):\n",
    "    list.append(hypo[i]);\n",
    "print(list);"
   ]
  },
  {
   "cell_type": "code",
   "execution_count": null,
   "metadata": {},
   "outputs": [],
   "source": []
  }
 ],
 "metadata": {
  "kernelspec": {
   "display_name": "Python 3",
   "language": "python",
   "name": "python3"
  },
  "language_info": {
   "codemirror_mode": {
    "name": "ipython",
    "version": 3
   },
   "file_extension": ".py",
   "mimetype": "text/x-python",
   "name": "python",
   "nbconvert_exporter": "python",
   "pygments_lexer": "ipython3",
   "version": "3.8.3"
  },
  "varInspector": {
   "cols": {
    "lenName": 16,
    "lenType": 16,
    "lenVar": 40
   },
   "kernels_config": {
    "python": {
     "delete_cmd_postfix": "",
     "delete_cmd_prefix": "del ",
     "library": "var_list.py",
     "varRefreshCmd": "print(var_dic_list())"
    },
    "r": {
     "delete_cmd_postfix": ") ",
     "delete_cmd_prefix": "rm(",
     "library": "var_list.r",
     "varRefreshCmd": "cat(var_dic_list()) "
    }
   },
   "types_to_exclude": [
    "module",
    "function",
    "builtin_function_or_method",
    "instance",
    "_Feature"
   ],
   "window_display": false
  }
 },
 "nbformat": 4,
 "nbformat_minor": 4
}
