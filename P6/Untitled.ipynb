{
 "cells": [
  {
   "cell_type": "code",
   "execution_count": 1,
   "metadata": {},
   "outputs": [],
   "source": [
    "from sklearn.datasets import fetch_20newsgroups_vectorized\n",
    "from sklearn.naive_bayes import MultinomialNB"
   ]
  },
  {
   "cell_type": "code",
   "execution_count": 2,
   "metadata": {},
   "outputs": [],
   "source": [
    "from sklearn.model_selection import train_test_split\n",
    "from sklearn import metrics"
   ]
  },
  {
   "cell_type": "code",
   "execution_count": 3,
   "metadata": {},
   "outputs": [],
   "source": [
    "doc=fetch_20newsgroups_vectorized()\n",
    "X_train,X_test,y_train,y_test=train_test_split(doc.data,doc.target)"
   ]
  },
  {
   "cell_type": "code",
   "execution_count": 4,
   "metadata": {},
   "outputs": [
    {
     "data": {
      "text/plain": [
       "MultinomialNB()"
      ]
     },
     "execution_count": 4,
     "metadata": {},
     "output_type": "execute_result"
    }
   ],
   "source": [
    "model=MultinomialNB()\n",
    "model.fit(X_train,y_train)"
   ]
  },
  {
   "cell_type": "code",
   "execution_count": 5,
   "metadata": {},
   "outputs": [
    {
     "name": "stdout",
     "output_type": "stream",
     "text": [
      "[0.43119266 0.50322581 0.81021898 0.70779221 0.52348993 0.72972973\n",
      " 0.68589744 0.968      0.84172662 0.85987261 0.96527778 0.97902098\n",
      " 0.55555556 0.86       0.93984962 0.96815287 0.80136986 0.90277778\n",
      " 0.11594203 0.00990099]\n"
     ]
    }
   ],
   "source": [
    "print(metrics.recall_score(y_test,model.predict(X_test), average=None))"
   ]
  },
  {
   "cell_type": "code",
   "execution_count": 6,
   "metadata": {},
   "outputs": [
    {
     "data": {
      "text/plain": [
       "['alt.atheism',\n",
       " 'comp.graphics',\n",
       " 'comp.os.ms-windows.misc',\n",
       " 'comp.sys.ibm.pc.hardware',\n",
       " 'comp.sys.mac.hardware',\n",
       " 'comp.windows.x',\n",
       " 'misc.forsale',\n",
       " 'rec.autos',\n",
       " 'rec.motorcycles',\n",
       " 'rec.sport.baseball',\n",
       " 'rec.sport.hockey',\n",
       " 'sci.crypt',\n",
       " 'sci.electronics',\n",
       " 'sci.med',\n",
       " 'sci.space',\n",
       " 'soc.religion.christian',\n",
       " 'talk.politics.guns',\n",
       " 'talk.politics.mideast',\n",
       " 'talk.politics.misc',\n",
       " 'talk.religion.misc']"
      ]
     },
     "execution_count": 6,
     "metadata": {},
     "output_type": "execute_result"
    }
   ],
   "source": [
    "doc.target_names"
   ]
  },
  {
   "cell_type": "code",
   "execution_count": 7,
   "metadata": {},
   "outputs": [
    {
     "data": {
      "text/plain": [
       "array([17,  7, 10, ..., 14, 12, 11])"
      ]
     },
     "execution_count": 7,
     "metadata": {},
     "output_type": "execute_result"
    }
   ],
   "source": [
    "doc.target"
   ]
  },
  {
   "cell_type": "code",
   "execution_count": 11,
   "metadata": {},
   "outputs": [
    {
     "name": "stdout",
     "output_type": "stream",
     "text": [
      "Confusion Matrix: \n",
      " [[ 47   0   0   0   0   0   0   4   1   0   0   1   0   1   1  54   0   0\n",
      "    0   0]\n",
      " [  0  78  10   9   0   3   2  14   2   1   0  26   2   3   4   1   0   0\n",
      "    0   0]\n",
      " [  0   1 111   7   1   3   0   6   0   0   0   6   0   1   0   1   0   0\n",
      "    0   0]\n",
      " [  0   0  14 109   2   0   2  14   1   0   0   8   2   1   0   1   0   0\n",
      "    0   0]\n",
      " [  0   2   6  17  78   1   2  26   0   0   2  13   2   0   0   0   0   0\n",
      "    0   0]\n",
      " [  0   3   5   4   0 108   0   5   1   0   2  15   1   0   3   1   0   0\n",
      "    0   0]\n",
      " [  0   0   2  11   0   0 107  26   1   0   0   6   2   0   0   1   0   0\n",
      "    0   0]\n",
      " [  0   0   0   0   0   0   1 121   2   0   0   0   0   0   1   0   0   0\n",
      "    0   0]\n",
      " [  0   1   0   0   1   0   3  16 117   0   0   0   0   0   0   1   0   0\n",
      "    0   0]\n",
      " [  0   2   0   0   1   0   1   7   0 135   8   0   1   0   1   1   0   0\n",
      "    0   0]\n",
      " [  0   1   0   0   0   0   1   2   0   0 139   0   0   0   0   1   0   0\n",
      "    0   0]\n",
      " [  0   2   1   0   0   0   0   0   0   0   0 140   0   0   0   0   0   0\n",
      "    0   0]\n",
      " [  0   0   3   4   1   0   1  27   0   0   0  16  80   4   7   1   0   0\n",
      "    0   0]\n",
      " [  0   1   0   0   0   0   0   9   0   0   0   7   0 129   1   3   0   0\n",
      "    0   0]\n",
      " [  0   0   0   0   0   1   0   2   0   0   0   2   1   0 125   2   0   0\n",
      "    0   0]\n",
      " [  0   2   0   0   0   0   0   2   0   1   0   0   0   0   0 152   0   0\n",
      "    0   0]\n",
      " [  0   0   0   0   0   0   0   8   0   0   0  13   0   0   2   4 117   2\n",
      "    0   0]\n",
      " [  0   0   0   0   0   0   0   2   1   1   0   3   0   0   0   7   0 130\n",
      "    0   0]\n",
      " [  0   0   0   0   0   0   0  24   2   1   4  46   1   0   8  31   5   0\n",
      "   16   0]\n",
      " [  8   0   0   0   0   0   0   7   3   2   2   5   1   1   3  62   4   2\n",
      "    0   1]]\n"
     ]
    }
   ],
   "source": [
    "print('Confusion Matrix: \\n', metrics.confusion_matrix(y_test, model.predict(X_test)))"
   ]
  },
  {
   "cell_type": "code",
   "execution_count": null,
   "metadata": {},
   "outputs": [],
   "source": []
  }
 ],
 "metadata": {
  "kernelspec": {
   "display_name": "Python 3",
   "language": "python",
   "name": "python3"
  },
  "language_info": {
   "codemirror_mode": {
    "name": "ipython",
    "version": 3
   },
   "file_extension": ".py",
   "mimetype": "text/x-python",
   "name": "python",
   "nbconvert_exporter": "python",
   "pygments_lexer": "ipython3",
   "version": "3.8.3"
  },
  "varInspector": {
   "cols": {
    "lenName": 16,
    "lenType": 16,
    "lenVar": 40
   },
   "kernels_config": {
    "python": {
     "delete_cmd_postfix": "",
     "delete_cmd_prefix": "del ",
     "library": "var_list.py",
     "varRefreshCmd": "print(var_dic_list())"
    },
    "r": {
     "delete_cmd_postfix": ") ",
     "delete_cmd_prefix": "rm(",
     "library": "var_list.r",
     "varRefreshCmd": "cat(var_dic_list()) "
    }
   },
   "types_to_exclude": [
    "module",
    "function",
    "builtin_function_or_method",
    "instance",
    "_Feature"
   ],
   "window_display": false
  }
 },
 "nbformat": 4,
 "nbformat_minor": 4
}
